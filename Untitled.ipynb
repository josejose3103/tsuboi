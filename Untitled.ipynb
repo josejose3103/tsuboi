{
 "cells": [
  {
   "cell_type": "code",
   "execution_count": 1,
   "metadata": {},
   "outputs": [
    {
     "name": "stdout",
     "output_type": "stream",
     "text": [
      "Done : 2432\n",
      "Done : 1309\n",
      "Done : 1325\n",
      "Done : 1326\n",
      "Done : 1377\n",
      "Done : 1465\n",
      "Done : 1633\n",
      "Done : 1678\n",
      "Done : 1698\n",
      "predict next day : DOWN\n",
      "\n",
      "テスト用正解率:0.5130434782608696\n",
      "学習用正解率:0.6128093158660844\n",
      "\n",
      "  feature_names  coefficient\n",
      "0          2432     0.112984\n",
      "1          1309     0.079159\n",
      "2          1325     0.202551\n",
      "3          1326     0.183601\n",
      "4          1377     0.248457\n",
      "5          1465     0.006148\n",
      "6          1633     0.095557\n",
      "7          1678     0.000000\n",
      "8          1698     0.071543\n",
      "\n",
      "データ数:917\n",
      "predict next day : CONSTANT\n",
      "\n",
      "テスト用正解率:0.7260869565217392\n",
      "学習用正解率:0.7700145560407569\n",
      "\n",
      "  feature_names  coefficient\n",
      "0          2432     0.207913\n",
      "1          1309     0.056074\n",
      "2          1325     0.071575\n",
      "3          1326     0.169060\n",
      "4          1377     0.055385\n",
      "5          1465     0.085298\n",
      "6          1633     0.194890\n",
      "7          1678     0.091575\n",
      "8          1698     0.068230\n",
      "\n",
      "データ数:917\n"
     ]
    }
   ],
   "source": [
    "run Example.ipynb"
   ]
  },
  {
   "cell_type": "code",
   "execution_count": 2,
   "metadata": {},
   "outputs": [
    {
     "name": "stdout",
     "output_type": "stream",
     "text": [
      "The autoreload extension is already loaded. To reload it, use:\n",
      "  %reload_ext autoreload\n",
      "Done : 2432\n",
      "Done : 1309\n",
      "Done : 1325\n",
      "Done : 1326\n",
      "Done : 1377\n",
      "Done : 1465\n",
      "Done : 1633\n",
      "Done : 1678\n",
      "Done : 1698\n",
      "predict next day : DOWN\n",
      "\n",
      "テスト用正解率:0.5130434782608696\n",
      "学習用正解率:0.6128093158660844\n",
      "\n",
      "  feature_names  coefficient\n",
      "0          2432     0.112984\n",
      "1          1309     0.079159\n",
      "2          1325     0.202551\n",
      "3          1326     0.183601\n",
      "4          1377     0.248457\n",
      "5          1465     0.006148\n",
      "6          1633     0.095557\n",
      "7          1678     0.000000\n",
      "8          1698     0.071543\n",
      "\n",
      "データ数:917\n",
      "predict next day : CONSTANT\n",
      "\n",
      "テスト用正解率:0.7260869565217392\n",
      "学習用正解率:0.7700145560407569\n",
      "\n",
      "  feature_names  coefficient\n",
      "0          2432     0.207913\n",
      "1          1309     0.056074\n",
      "2          1325     0.071575\n",
      "3          1326     0.169060\n",
      "4          1377     0.055385\n",
      "5          1465     0.085298\n",
      "6          1633     0.194890\n",
      "7          1678     0.091575\n",
      "8          1698     0.068230\n",
      "\n",
      "データ数:917\n"
     ]
    }
   ],
   "source": [
    "run Example.ipynb"
   ]
  },
  {
   "cell_type": "code",
   "execution_count": 3,
   "metadata": {},
   "outputs": [
    {
     "name": "stdout",
     "output_type": "stream",
     "text": [
      "The autoreload extension is already loaded. To reload it, use:\n",
      "  %reload_ext autoreload\n",
      "Done : 2432\n",
      "Done : 1309\n",
      "Done : 1325\n",
      "Done : 1326\n",
      "Done : 1377\n",
      "Done : 1465\n",
      "Done : 1633\n",
      "Done : 1678\n",
      "Done : 1698\n",
      "predict next day : DOWN\n",
      "\n",
      "テスト用正解率:0.5130434782608696\n",
      "学習用正解率:0.6128093158660844\n",
      "\n",
      "  feature_names  coefficient\n",
      "0          2432     0.112984\n",
      "1          1309     0.079159\n",
      "2          1325     0.202551\n",
      "3          1326     0.183601\n",
      "4          1377     0.248457\n",
      "5          1465     0.006148\n",
      "6          1633     0.095557\n",
      "7          1678     0.000000\n",
      "8          1698     0.071543\n",
      "\n",
      "データ数:917\n",
      "predict next day : CONSTANT\n",
      "\n",
      "テスト用正解率:0.7260869565217392\n",
      "学習用正解率:0.7700145560407569\n",
      "\n",
      "  feature_names  coefficient\n",
      "0          2432     0.207913\n",
      "1          1309     0.056074\n",
      "2          1325     0.071575\n",
      "3          1326     0.169060\n",
      "4          1377     0.055385\n",
      "5          1465     0.085298\n",
      "6          1633     0.194890\n",
      "7          1678     0.091575\n",
      "8          1698     0.068230\n",
      "\n",
      "データ数:917\n"
     ]
    }
   ],
   "source": [
    "run Example.ipynb"
   ]
  },
  {
   "cell_type": "code",
   "execution_count": null,
   "metadata": {},
   "outputs": [],
   "source": []
  }
 ],
 "metadata": {
  "kernelspec": {
   "display_name": "Python 3",
   "language": "python",
   "name": "python3"
  },
  "language_info": {
   "codemirror_mode": {
    "name": "ipython",
    "version": 3
   },
   "file_extension": ".py",
   "mimetype": "text/x-python",
   "name": "python",
   "nbconvert_exporter": "python",
   "pygments_lexer": "ipython3",
   "version": "3.7.3"
  }
 },
 "nbformat": 4,
 "nbformat_minor": 2
}
